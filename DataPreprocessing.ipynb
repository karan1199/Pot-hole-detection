{
 "cells": [
  {
   "cell_type": "code",
   "execution_count": 20,
   "id": "bd1be6d9",
   "metadata": {},
   "outputs": [],
   "source": [
    "import pandas as pd\n",
    "import numpy as np\n",
    "from sklearn import preprocessing\n",
    "import pickle\n",
    "from sklearn.decomposition import PCA\n",
    "import pickle"
   ]
  },
  {
   "cell_type": "code",
   "execution_count": 30,
   "id": "1647d5a5",
   "metadata": {},
   "outputs": [
    {
     "name": "stdout",
     "output_type": "stream",
     "text": [
      "[[-0.54833  -1.216    -0.35353  ...  0.23587   0.045124  0.      ]\n",
      " [-0.44806   1.3394    0.28563  ...  0.37791  -0.070311  0.      ]\n",
      " [-0.57483  -1.2512   -0.47459  ...  0.21212   0.12498   0.      ]\n",
      " ...\n",
      " [-1.4104   -0.91273   3.5477   ...  1.688    -0.04663   5.      ]\n",
      " [-1.4123   -1.2802    2.7025   ...  1.8039    0.21921   5.      ]\n",
      " [-1.4131   -0.82179   2.8983   ...  1.6786   -0.19881   5.      ]]\n",
      "<class 'numpy.ndarray'>\n"
     ]
    },
    {
     "data": {
      "text/plain": [
       "(5999976, 9)"
      ]
     },
     "execution_count": 30,
     "metadata": {},
     "output_type": "execute_result"
    }
   ],
   "source": [
    "pick_in = open('data.pickle', 'rb')\n",
    "data = pickle.load(pick_in)\n",
    "pick_in.close()\n",
    "print(data)\n",
    "print(type(data))\n",
    "data.shape"
   ]
  },
  {
   "cell_type": "code",
   "execution_count": 44,
   "id": "e237f26a",
   "metadata": {},
   "outputs": [
    {
     "data": {
      "text/plain": [
       "array([[-0.54833 , -1.216   , -0.35353 , ...,  0.19588 ,  0.23587 ,\n",
       "         0.045124],\n",
       "       [-0.44806 ,  1.3394  ,  0.28563 , ...,  0.19641 ,  0.37791 ,\n",
       "        -0.070311],\n",
       "       [-0.57483 , -1.2512  , -0.47459 , ...,  0.19298 ,  0.21212 ,\n",
       "         0.12498 ],\n",
       "       ...,\n",
       "       [-1.4104  , -0.91273 ,  3.5477  , ...,  8.7255  ,  1.688   ,\n",
       "        -0.04663 ],\n",
       "       [-1.4123  , -1.2802  ,  2.7025  , ...,  8.6782  ,  1.8039  ,\n",
       "         0.21921 ],\n",
       "       [-1.4131  , -0.82179 ,  2.8983  , ...,  8.7913  ,  1.6786  ,\n",
       "        -0.19881 ]])"
      ]
     },
     "execution_count": 44,
     "metadata": {},
     "output_type": "execute_result"
    }
   ],
   "source": [
    "\n",
    "tempdata= data\n",
    "tempdata\n",
    "tempdata=np.delete(tempdata,-1,1)\n",
    "tempdata"
   ]
  },
  {
   "cell_type": "code",
   "execution_count": 45,
   "id": "7441a68f",
   "metadata": {},
   "outputs": [
    {
     "data": {
      "text/plain": [
       "(5999976, 8)"
      ]
     },
     "execution_count": 45,
     "metadata": {},
     "output_type": "execute_result"
    }
   ],
   "source": [
    "tempdata.shape"
   ]
  },
  {
   "cell_type": "code",
   "execution_count": 53,
   "id": "23ce1abd",
   "metadata": {},
   "outputs": [
    {
     "data": {
      "text/plain": [
       "array([[0.],\n",
       "       [0.],\n",
       "       [0.],\n",
       "       ...,\n",
       "       [5.],\n",
       "       [5.],\n",
       "       [5.]])"
      ]
     },
     "execution_count": 53,
     "metadata": {},
     "output_type": "execute_result"
    }
   ],
   "source": [
    "y=data[:,[8]]\n",
    "y"
   ]
  },
  {
   "cell_type": "code",
   "execution_count": 55,
   "id": "f4adc89d",
   "metadata": {},
   "outputs": [
    {
     "data": {
      "text/plain": [
       "array([[-0.35888031, -0.7895396 , -0.23323077, ...,  0.12114867,\n",
       "         0.14694295,  0.02390831],\n",
       "       [-0.29420434,  0.85873986,  0.17903905, ...,  0.12149053,\n",
       "         0.23856133, -0.05054936],\n",
       "       [-0.37597329, -0.81224424, -0.31131667, ...,  0.11927812,\n",
       "         0.13162377,  0.07541688],\n",
       "       ...,\n",
       "       [-0.91493113, -0.59392493,  2.28313351, ...,  5.62290864,\n",
       "         1.0835932 , -0.03527469],\n",
       "       [-0.91615667, -0.83094976,  1.73796414, ...,  5.59239928,\n",
       "         1.1583508 ,  0.13619694],\n",
       "       [-0.91667268, -0.53526698,  1.8642587 , ...,  5.66535083,\n",
       "         1.07753003, -0.13343356]])"
      ]
     },
     "execution_count": 55,
     "metadata": {},
     "output_type": "execute_result"
    }
   ],
   "source": [
    "dfnormal=((tempdata-tempdata.mean())/tempdata.std())\n",
    "dfnormal"
   ]
  },
  {
   "cell_type": "code",
   "execution_count": 70,
   "id": "114501de",
   "metadata": {},
   "outputs": [],
   "source": [
    "import matplotlib.pyplot as plt"
   ]
  },
  {
   "cell_type": "code",
   "execution_count": 103,
   "id": "bf80ec61",
   "metadata": {},
   "outputs": [
    {
     "name": "stdout",
     "output_type": "stream",
     "text": [
      "[[-0.30621797  0.75234076  0.24662247 ...  0.25748161 -0.35236548\n",
      "   0.10078984]\n",
      " [ 0.38200098 -0.77431793  0.34759912 ... -0.02460448 -0.47229353\n",
      "   0.02644718]\n",
      " [-0.27251221  0.79720556  0.22198447 ...  0.31912138 -0.32593494\n",
      "   0.10655795]\n",
      " ...\n",
      " [ 1.31341924  0.70821409  4.8236071  ...  1.05376971  0.44696829\n",
      "   0.9245096 ]\n",
      " [ 0.94393407  0.86023736  4.64171017 ...  1.51101907  0.4257628\n",
      "   0.85857628]\n",
      " [ 0.81142416  0.47832745  4.73104919 ...  1.42689493  0.4611031\n",
      "   0.94119913]]\n"
     ]
    }
   ],
   "source": [
    "pca=PCA(n_components=7)\n",
    "featuredata=pca.fit_transform(dfnormal)\n",
    "print(featuredata)\n"
   ]
  },
  {
   "cell_type": "code",
   "execution_count": 100,
   "id": "fb68dd8d",
   "metadata": {},
   "outputs": [
    {
     "name": "stdout",
     "output_type": "stream",
     "text": [
      "[[-2.65666356e-02  3.57480072e-01  5.12274447e-02  9.29721854e-01\n",
      "   1.17684090e-02  5.77465837e-02  3.18206956e-02 -3.08447439e-03]\n",
      " [-7.81704220e-02 -9.27673266e-01 -5.10928465e-02  3.59330787e-01\n",
      "  -9.77901200e-03 -3.63288141e-02  1.02151059e-02  7.92737771e-03]\n",
      " [-6.90848746e-01 -1.18098016e-02  3.80173674e-01 -7.79549304e-02\n",
      "  -6.78929721e-02  5.62920921e-01  2.24662805e-01 -4.09272527e-03]\n",
      " [ 7.08870981e-01 -1.01960335e-01  3.74428140e-01 -3.01162945e-03\n",
      "   9.23012901e-02  5.49615797e-01  1.90478692e-01 -4.61907030e-03]\n",
      " [ 7.95798505e-03  2.80122103e-02 -8.42025940e-01 -2.12161793e-03\n",
      "   3.64097091e-03  4.94209705e-01  2.13245527e-01  2.02399986e-02]\n",
      " [ 9.21220517e-02 -2.49275439e-03 -4.24561874e-03  1.82830668e-02\n",
      "  -8.88540417e-01  1.76119792e-01 -4.13058935e-01  3.88338468e-03]\n",
      " [-6.97391545e-02 -1.57998441e-02 -2.39618781e-02  8.58671864e-03\n",
      "   4.43964977e-01  3.17960920e-01 -8.34286931e-01 -4.25578117e-04]\n",
      " [ 4.36235489e-04  7.37532193e-03  2.09029880e-02 -3.38301553e-04\n",
      "   3.82911804e-03 -5.24412662e-03 -1.25092286e-03  9.99732283e-01]]\n"
     ]
    }
   ],
   "source": [
    "print(pca.components_)\n"
   ]
  },
  {
   "cell_type": "code",
   "execution_count": 104,
   "id": "b6145a38",
   "metadata": {},
   "outputs": [
    {
     "data": {
      "text/plain": [
       "array([2.28739207, 1.90604538, 1.35655997, 1.11288924, 0.55679196,\n",
       "       0.47551734, 0.29547934])"
      ]
     },
     "execution_count": 104,
     "metadata": {},
     "output_type": "execute_result"
    }
   ],
   "source": [
    "pca.explained_variance_"
   ]
  },
  {
   "cell_type": "code",
   "execution_count": 102,
   "id": "864dfe89",
   "metadata": {},
   "outputs": [
    {
     "data": {
      "text/plain": [
       "0.0"
      ]
     },
     "execution_count": 102,
     "metadata": {},
     "output_type": "execute_result"
    }
   ],
   "source": [
    "pca.noise_variance_\n"
   ]
  },
  {
   "cell_type": "code",
   "execution_count": 105,
   "id": "4d5517d6",
   "metadata": {},
   "outputs": [],
   "source": [
    "processeddata=featuredata,y"
   ]
  },
  {
   "cell_type": "code",
   "execution_count": 106,
   "id": "a7557b9f",
   "metadata": {},
   "outputs": [],
   "source": [
    "pick_in=open('processeddata.pickle','wb')\n",
    "pickle.dump(processeddata,pick_in)\n",
    "pick_in.close()"
   ]
  }
 ],
 "metadata": {
  "kernelspec": {
   "display_name": "Python 3 (ipykernel)",
   "language": "python",
   "name": "python3"
  },
  "language_info": {
   "codemirror_mode": {
    "name": "ipython",
    "version": 3
   },
   "file_extension": ".py",
   "mimetype": "text/x-python",
   "name": "python",
   "nbconvert_exporter": "python",
   "pygments_lexer": "ipython3",
   "version": "3.10.4"
  }
 },
 "nbformat": 4,
 "nbformat_minor": 5
}
